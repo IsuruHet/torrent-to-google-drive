{
  "nbformat": 4,
  "nbformat_minor": 0,
  "metadata": {
    "colab": {
      "provenance": []
    },
    "kernelspec": {
      "name": "python3",
      "display_name": "Python 3"
    },
    "language_info": {
      "name": "python"
    },
    "widgets": {
      "application/vnd.jupyter.widget-state+json": {
        "4788780d605e47038e541f66aeada3b2": {
          "model_module": "@jupyter-widgets/controls",
          "model_name": "FileUploadModel",
          "model_module_version": "1.5.0",
          "state": {
            "_counter": 1,
            "_dom_classes": [],
            "_model_module": "@jupyter-widgets/controls",
            "_model_module_version": "1.5.0",
            "_model_name": "FileUploadModel",
            "_view_count": null,
            "_view_module": "@jupyter-widgets/controls",
            "_view_module_version": "1.5.0",
            "_view_name": "FileUploadView",
            "accept": "",
            "button_style": "",
            "data": [
              null
            ],
            "description": "Upload",
            "description_tooltip": null,
            "disabled": false,
            "error": "",
            "icon": "upload",
            "layout": "IPY_MODEL_3cf38870c2574894b853df56f5acb23c",
            "metadata": [
              {
                "name": "Thanksgiving (2023) [720p] [WEBRip] [YTS.MX].torrent",
                "type": "application/x-bittorrent",
                "size": 21325,
                "lastModified": 1703139660797
              }
            ],
            "multiple": false,
            "style": "IPY_MODEL_1ac175bd67964cb79e9a3f9af1b8c617"
          }
        },
        "3cf38870c2574894b853df56f5acb23c": {
          "model_module": "@jupyter-widgets/base",
          "model_name": "LayoutModel",
          "model_module_version": "1.2.0",
          "state": {
            "_model_module": "@jupyter-widgets/base",
            "_model_module_version": "1.2.0",
            "_model_name": "LayoutModel",
            "_view_count": null,
            "_view_module": "@jupyter-widgets/base",
            "_view_module_version": "1.2.0",
            "_view_name": "LayoutView",
            "align_content": null,
            "align_items": null,
            "align_self": null,
            "border": null,
            "bottom": null,
            "display": null,
            "flex": null,
            "flex_flow": null,
            "grid_area": null,
            "grid_auto_columns": null,
            "grid_auto_flow": null,
            "grid_auto_rows": null,
            "grid_column": null,
            "grid_gap": null,
            "grid_row": null,
            "grid_template_areas": null,
            "grid_template_columns": null,
            "grid_template_rows": null,
            "height": null,
            "justify_content": null,
            "justify_items": null,
            "left": null,
            "margin": null,
            "max_height": null,
            "max_width": null,
            "min_height": null,
            "min_width": null,
            "object_fit": null,
            "object_position": null,
            "order": null,
            "overflow": null,
            "overflow_x": null,
            "overflow_y": null,
            "padding": null,
            "right": null,
            "top": null,
            "visibility": null,
            "width": null
          }
        },
        "1ac175bd67964cb79e9a3f9af1b8c617": {
          "model_module": "@jupyter-widgets/controls",
          "model_name": "ButtonStyleModel",
          "model_module_version": "1.5.0",
          "state": {
            "_model_module": "@jupyter-widgets/controls",
            "_model_module_version": "1.5.0",
            "_model_name": "ButtonStyleModel",
            "_view_count": null,
            "_view_module": "@jupyter-widgets/base",
            "_view_module_version": "1.2.0",
            "_view_name": "StyleView",
            "button_color": null,
            "font_weight": ""
          }
        }
      }
    }
  },
  "cells": [
    {
      "cell_type": "markdown",
      "source": [
        "**STEP 1 : Mount Google Drive**"
      ],
      "metadata": {
        "id": "HyouYLq8wD8F"
      }
    },
    {
      "cell_type": "code",
      "source": [
        "from google.colab import drive\n",
        "drive.mount('/content/drive')"
      ],
      "metadata": {
        "colab": {
          "base_uri": "https://localhost:8080/"
        },
        "id": "iz1nz0U0wL6_",
        "outputId": "623924d3-e6fe-4cc1-ec30-411904d1adae"
      },
      "execution_count": 1,
      "outputs": [
        {
          "output_type": "stream",
          "name": "stdout",
          "text": [
            "Mounted at /content/drive\n"
          ]
        }
      ]
    },
    {
      "cell_type": "markdown",
      "source": [
        "**STEP 2 : Install libtorrent library**"
      ],
      "metadata": {
        "id": "JFJAocaMwwkk"
      }
    },
    {
      "cell_type": "code",
      "source": [
        "!pip install libtorrent"
      ],
      "metadata": {
        "colab": {
          "base_uri": "https://localhost:8080/"
        },
        "id": "0cBOnjx6w2qn",
        "outputId": "04ee5468-d259-4df9-e5e0-338b26070710"
      },
      "execution_count": 2,
      "outputs": [
        {
          "output_type": "stream",
          "name": "stdout",
          "text": [
            "Collecting libtorrent\n",
            "  Downloading libtorrent-2.0.9-cp310-cp310-manylinux_2_17_x86_64.manylinux2014_x86_64.whl (8.5 MB)\n",
            "\u001b[2K     \u001b[90m━━━━━━━━━━━━━━━━━━━━━━━━━━━━━━━━━━━━━━━━\u001b[0m \u001b[32m8.5/8.5 MB\u001b[0m \u001b[31m29.9 MB/s\u001b[0m eta \u001b[36m0:00:00\u001b[0m\n",
            "\u001b[?25hInstalling collected packages: libtorrent\n",
            "Successfully installed libtorrent-2.0.9\n"
          ]
        }
      ]
    },
    {
      "cell_type": "markdown",
      "source": [
        "**STEP 3 : Import libaries**"
      ],
      "metadata": {
        "id": "pv4gY1_NRmN7"
      }
    },
    {
      "cell_type": "code",
      "source": [
        "import libtorrent as lt\n",
        "from IPython.display import FileLink, display\n",
        "from ipywidgets import FileUpload\n",
        "import time\n",
        "import os"
      ],
      "metadata": {
        "id": "RBzLJgDlRwH-"
      },
      "execution_count": 4,
      "outputs": []
    },
    {
      "cell_type": "markdown",
      "source": [
        "**Download Using the .torrent File 📁 Or**\n"
      ],
      "metadata": {
        "id": "uOHjTgIU-pTi"
      }
    },
    {
      "cell_type": "code",
      "source": [
        "\n",
        "def download_torrent(torrent_path, save_path):\n",
        "    ses = lt.session()\n",
        "\n",
        "    # Add the torrent file\n",
        "    info = lt.torrent_info(torrent_path)\n",
        "    h = ses.add_torrent({'ti': info, 'save_path': save_path})\n",
        "\n",
        "    print('Downloading', h.name())\n",
        "\n",
        "    while not h.is_seed():\n",
        "        s = h.status()\n",
        "        print('%.2f%% Completed (Down: %.1f kB/s Up: %.1f kB/s Peers: %d) %s' % (\n",
        "            s.progress * 100, s.download_rate / 1000, s.upload_rate / 1000,\n",
        "            s.num_peers, s.state))\n",
        "\n",
        "        time.sleep(50)\n",
        "\n",
        "    print('Downloading is successfully completed')\n",
        "\n",
        "    # Delete the torrent file after download\n",
        "    os.remove(torrent_path)\n",
        "    print('Torrent file deleted.')\n",
        "\n",
        "def handle_upload(change):\n",
        "    # Check if any files have been uploaded\n",
        "    if upload.value:\n",
        "        # Get the uploaded file content\n",
        "        uploaded_file = list(upload.value.values())[0]\n",
        "        file_extension = uploaded_file['metadata']['name'].split('.')[-1]\n",
        "\n",
        "        # Check if the uploaded file has the desired extension\n",
        "        if file_extension == 'torrent':\n",
        "            # Save the uploaded torrent file\n",
        "            torrent_path = 'uploaded_file.torrent'\n",
        "            with open(torrent_path, 'wb') as f:\n",
        "                f.write(uploaded_file['content'])\n",
        "\n",
        "            print(\"Torrent file uploaded successfully.\")\n",
        "\n",
        "            # Perform the download using the uploaded torrent file\n",
        "            download_torrent(torrent_path, save_path)\n",
        "        else:\n",
        "            print(f\"Invalid file extension. Expected 'torrent', got '{file_extension}'.\")\n",
        "    else:\n",
        "        print(\"No files uploaded.\")\n",
        "\n",
        "# Create a file upload widget\n",
        "upload = FileUpload()\n",
        "upload.observe(handle_upload, names='value')\n",
        "\n",
        "# Display the widget\n",
        "display(upload)\n",
        "\n",
        "# Set the save path for downloaded files\n",
        "save_path = \"/content/drive/MyDrive/Torrent/\"\n",
        "\n"
      ],
      "metadata": {
        "id": "aN5qu7HS-xlQ",
        "colab": {
          "base_uri": "https://localhost:8080/",
          "height": 309,
          "referenced_widgets": [
            "4788780d605e47038e541f66aeada3b2",
            "3cf38870c2574894b853df56f5acb23c",
            "1ac175bd67964cb79e9a3f9af1b8c617"
          ]
        },
        "outputId": "ba508bdf-fd56-41d7-d52a-1e5b2d8e006f"
      },
      "execution_count": 5,
      "outputs": [
        {
          "output_type": "display_data",
          "data": {
            "text/plain": [
              "FileUpload(value={}, description='Upload')"
            ],
            "application/vnd.jupyter.widget-view+json": {
              "version_major": 2,
              "version_minor": 0,
              "model_id": "4788780d605e47038e541f66aeada3b2"
            }
          },
          "metadata": {}
        },
        {
          "output_type": "stream",
          "name": "stdout",
          "text": [
            "Torrent file uploaded successfully.\n",
            "Downloading Thanksgiving (2023) [720p] [WEBRip] [YTS.MX]\n",
            "0.00% Completed (Down: 0.0 kB/s Up: 0.0 kB/s Peers: 0) checking_resume_data\n"
          ]
        },
        {
          "output_type": "stream",
          "name": "stderr",
          "text": [
            "<ipython-input-5-dbb9304df006>:8: DeprecationWarning: name() is deprecated\n",
            "  print('Downloading', h.name())\n",
            "<ipython-input-5-dbb9304df006>:10: DeprecationWarning: is_seed() is deprecated\n",
            "  while not h.is_seed():\n"
          ]
        },
        {
          "output_type": "stream",
          "name": "stdout",
          "text": [
            "11.70% Completed (Down: 5097.2 kB/s Up: 172.2 kB/s Peers: 16) downloading\n",
            "37.50% Completed (Down: 4945.8 kB/s Up: 191.8 kB/s Peers: 101) downloading\n",
            "53.20% Completed (Down: 3044.8 kB/s Up: 141.4 kB/s Peers: 141) downloading\n",
            "66.71% Completed (Down: 2965.0 kB/s Up: 140.2 kB/s Peers: 166) downloading\n",
            "81.28% Completed (Down: 3137.4 kB/s Up: 147.3 kB/s Peers: 175) downloading\n",
            "98.39% Completed (Down: 3771.6 kB/s Up: 165.8 kB/s Peers: 170) downloading\n",
            "Downloading is successfully completed\n",
            "Torrent file deleted.\n"
          ]
        }
      ]
    },
    {
      "cell_type": "markdown",
      "source": [
        "**Download Using Magnet Link 🧲**"
      ],
      "metadata": {
        "id": "jMrIAtJT0Fbl"
      }
    },
    {
      "cell_type": "code",
      "source": [
        "magnet_link = input(\"PASTE TORRENT/MAGNET LINK HERE \\n\") # PASTE TORRENT/MAGNET LINK HERE"
      ],
      "metadata": {
        "colab": {
          "base_uri": "https://localhost:8080/"
        },
        "id": "RNs3OdJIyF_x",
        "outputId": "b3fa1f4e-bdd1-44c5-d1ef-68673e92a55a"
      },
      "execution_count": null,
      "outputs": [
        {
          "name": "stdout",
          "output_type": "stream",
          "text": [
            "PASTE TORRENT/MAGNET LINK HERE \n",
            "magnet:?xt=urn:btih:95929D927DCFDF8279AB110D520B3BE847E0EF41&dn=%5Bext.to%5D%20Thanksgiving.2023.720p.WEBRip.800MB.x264-GalaxyRG&tr=udp%3A%2F%2Fopen.stealth.si%3A80%2Fannounce&tr=udp%3A%2F%2Ftracker.tiny-vps.com%3A6969%2Fannounce&tr=udp%3A%2F%2Ftracker.opentrackr.org%3A1337%2Fannounce&tr=udp%3A%2F%2Ftracker.torrent.eu.org%3A451%2Fannounce&tr=udp%3A%2F%2Fexplodie.org%3A6969%2Fannounce&tr=udp%3A%2F%2Ftracker.cyberia.is%3A6969%2Fannounce&tr=udp%3A%2F%2Fipv4.tracker.harry.lu%3A80%2Fannounce&tr=udp%3A%2F%2Fp4p.arenabg.com%3A1337%2Fannounce&tr=udp%3A%2F%2Ftracker.birkenwald.de%3A6969%2Fannounce&tr=udp%3A%2F%2Ftracker.moeking.me%3A6969%2Fannounce&tr=udp%3A%2F%2Fopentor.org%3A2710%2Fannounce&tr=udp%3A%2F%2Ftracker.dler.org%3A6969%2Fannounce&tr=udp%3A%2F%2Fuploads.gamecoast.net%3A6969%2Fannounce&tr=https%3A%2F%2Ftracker.foreverpirates.co%3A443%2Fannounce&tr=udp%3A%2F%2Ftracker.opentrackr.org%3A1337%2Fannounce&tr=http%3A%2F%2Ftracker.openbittorrent.com%3A80%2Fannounce&tr=udp%3A%2F%2Fopentracker.i2p.rocks%3A6969%2Fannounce&tr=udp%3A%2F%2Ftracker.internetwarriors.net%3A1337%2Fannounce&tr=udp%3A%2F%2Ftracker.leechers-paradise.org%3A6969%2Fannounce&tr=udp%3A%2F%2Fcoppersurfer.tk%3A6969%2Fannounce&tr=udp%3A%2F%2Ftracker.zer0day.to%3A1337%2Fannounce\n"
          ]
        }
      ]
    },
    {
      "cell_type": "code",
      "source": [
        "import libtorrent as lt\n",
        "import time\n",
        "\n",
        "def download_torrent(magnet_link, save_path):\n",
        "    ses = lt.session()\n",
        "\n",
        "    # Add the magnet link instead of the torrent file\n",
        "    h = lt.add_magnet_uri(ses, magnet_link, {'save_path': save_path})\n",
        "\n",
        "    print('Downloading', h.name())\n",
        "\n",
        "    while not h.is_seed():\n",
        "        s = h.status()\n",
        "        print('%.2f%% Completed (Down: %.1f kB/s Up: %.1f kB/s Peers: %d) %s' % (\n",
        "            s.progress * 100, s.download_rate / 1000, s.upload_rate / 1000,\n",
        "            s.num_peers, s.state))\n",
        "\n",
        "\n",
        "\n",
        "        time.sleep(50)\n",
        "\n",
        "    print('Downloading is successfully completed')\n",
        "\n",
        "if __name__ == \"__main__\":\n",
        "\n",
        "    save_path = \"/content/drive/MyDrive/Torrent/\"\n",
        "\n",
        "    download_torrent(magnet_link, save_path)\n"
      ],
      "metadata": {
        "id": "f-m7acL90JyQ"
      },
      "execution_count": null,
      "outputs": []
    }
  ]
}